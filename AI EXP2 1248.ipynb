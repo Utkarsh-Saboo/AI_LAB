{
 "cells": [
  {
   "cell_type": "code",
   "execution_count": 25,
   "metadata": {},
   "outputs": [
    {
     "name": "stdout",
     "output_type": "stream",
     "text": [
      "{'DZ': 'Crimson Red'}\n",
      "{'DZ': 'Crimson Red', 'JF': 'Indigo'}\n",
      "{'DZ': 'Crimson Red', 'JF': 'Indigo', 'GZ': 'Light Pink'}\n",
      "{'DZ': 'Crimson Red', 'JF': 'Indigo', 'GZ': 'Light Pink', 'U': 'Crimson Red'}\n",
      "{'DZ': 'Crimson Red', 'JF': 'Indigo', 'GZ': 'Light Pink', 'U': 'Crimson Red', 'JGD': 'Indigo'}\n",
      "{'DZ': 'Crimson Red', 'JF': 'Indigo', 'GZ': 'Light Pink', 'U': 'Crimson Red', 'JGD': 'Indigo', 'S': 'Crimson Red'}\n"
     ]
    }
   ],
   "source": [
    "#UTKARSH_SABOO\n",
    "#RA2011003011248\n",
    "Colors = ['Crimson Red', 'Indigo', 'Light Pink']\n",
    "States = ['DZ', 'JF', 'GZ', 'U', 'JGD', 'S']\n",
    "Neighbors = {} #adjacent pairing neighbors of diff erent states\n",
    "Neighbors['DZ'] = ['JF', 'GZ']\n",
    "Neighbors['JF'] = ['DZ', 'GZ', 'U']\n",
    "Neighbors['GZ'] = ['DZ', 'JF', 'U', 'JGD', 'S']\n",
    "Neighbors['U'] = ['JF', 'GZ', 'JGD']\n",
    "Neighbors['JGD'] = ['U', 'GZ', 'S']\n",
    "Neighbors['S'] = ['GZ', 'JGD']\n",
    "Colors_Of_States = {}\n",
    "def promising(state, color): #function to check a promising color - returns a promising color\n",
    "    for neighbor in Neighbors.get(state):\n",
    "        color_of_neighbor = Colors_Of_States.get(neighbor)\n",
    "        if color_of_neighbor == color: #same color (of neighbor and state) -> rejected\n",
    "            return False\n",
    "    return True #if not same -> color accepted\n",
    "def get_color_for_state(state): #promising color is assigned to the state\n",
    "    for color in Colors:\n",
    "        if promising(state, color):\n",
    "            return color\n",
    "def main():\n",
    "      for state in States:\n",
    "        Colors_Of_States[state] = get_color_for_state(state)\n",
    "        print(Colors_Of_States)\n",
    "main()"
   ]
  },
  {
   "cell_type": "code",
   "execution_count": 24,
   "metadata": {},
   "outputs": [
    {
     "name": "stdout",
     "output_type": "stream",
     "text": [
      "{'DZ': 'Crimson Red'}\n",
      "{'DZ': 'Crimson Red', 'JF': 'Indigo'}\n",
      "{'DZ': 'Crimson Red', 'JF': 'Indigo', 'GZ': 'Light Pink'}\n",
      "{'DZ': 'Crimson Red', 'JF': 'Indigo', 'GZ': 'Light Pink', 'U': 'Crimson Red'}\n",
      "{'DZ': 'Crimson Red', 'JF': 'Indigo', 'GZ': 'Light Pink', 'U': 'Crimson Red', 'JGD': 'Indigo'}\n",
      "{'DZ': 'Crimson Red', 'JF': 'Indigo', 'GZ': 'Light Pink', 'U': 'Crimson Red', 'JGD': 'Indigo', 'S': 'Crimson Red'}\n"
     ]
    }
   ],
   "source": []
  },
  {
   "cell_type": "code",
   "execution_count": null,
   "metadata": {},
   "outputs": [],
   "source": []
  },
  {
   "cell_type": "code",
   "execution_count": null,
   "metadata": {},
   "outputs": [],
   "source": []
  }
 ],
 "metadata": {
  "kernelspec": {
   "display_name": "Python 3",
   "language": "python",
   "name": "python3"
  },
  "language_info": {
   "codemirror_mode": {
    "name": "ipython",
    "version": 3
   },
   "file_extension": ".py",
   "mimetype": "text/x-python",
   "name": "python",
   "nbconvert_exporter": "python",
   "pygments_lexer": "ipython3",
   "version": "3.7.4"
  }
 },
 "nbformat": 4,
 "nbformat_minor": 2
}
