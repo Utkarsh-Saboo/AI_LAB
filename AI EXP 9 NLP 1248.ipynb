{
 "cells": [
  {
   "cell_type": "code",
   "execution_count": 1,
   "id": "94ff6cc4",
   "metadata": {},
   "outputs": [
    {
     "name": "stdout",
     "output_type": "stream",
     "text": [
      "Pronouns: []\n",
      "Verbs: ['is']\n",
      "Determiners: ['This', 'an']\n",
      "Nouns: ['example', 'sentence']\n",
      "Punctuation: ['.']\n"
     ]
    },
    {
     "name": "stderr",
     "output_type": "stream",
     "text": [
      "[nltk_data] Downloading package punkt to\n",
      "[nltk_data]     C:\\Users\\Admin\\AppData\\Roaming\\nltk_data...\n",
      "[nltk_data]   Package punkt is already up-to-date!\n",
      "[nltk_data] Downloading package averaged_perceptron_tagger to\n",
      "[nltk_data]     C:\\Users\\Admin\\AppData\\Roaming\\nltk_data...\n",
      "[nltk_data]   Package averaged_perceptron_tagger is already up-to-\n",
      "[nltk_data]       date!\n"
     ]
    }
   ],
   "source": [
    "import nltk\n",
    "from nltk.tokenize import word_tokenize\n",
    "from nltk import pos_tag\n",
    "\n",
    "nltk.download('punkt')\n",
    "nltk.download('averaged_perceptron_tagger')\n",
    "\n",
    "sentence = \"This is an example sentence.\"\n",
    "tokens = word_tokenize(sentence)\n",
    "tagged = pos_tag(tokens)\n",
    "\n",
    "pronouns = []\n",
    "verbs = []\n",
    "determiners = []\n",
    "nouns = []\n",
    "punctuation = []\n",
    "\n",
    "for word, tag in tagged:\n",
    "    if tag.startswith('PRP'):\n",
    "        pronouns.append(word)\n",
    "    elif tag.startswith('V'):\n",
    "        verbs.append(word)\n",
    "    elif tag.startswith('DT'):\n",
    "        determiners.append(word)\n",
    "    elif tag.startswith('N'):\n",
    "        nouns.append(word)\n",
    "    elif tag in ['.', ',', ':', ';', '!', '?']:\n",
    "        punctuation.append(word)\n",
    "\n",
    "print(\"Pronouns:\", pronouns)\n",
    "print(\"Verbs:\", verbs)\n",
    "print(\"Determiners:\", determiners)\n",
    "print(\"Nouns:\", nouns)\n",
    "print(\"Punctuation:\", punctuation)"
   ]
  },
  {
   "cell_type": "code",
   "execution_count": null,
   "id": "7b154102",
   "metadata": {},
   "outputs": [],
   "source": []
  }
 ],
 "metadata": {
  "kernelspec": {
   "display_name": "Python 3 (ipykernel)",
   "language": "python",
   "name": "python3"
  },
  "language_info": {
   "codemirror_mode": {
    "name": "ipython",
    "version": 3
   },
   "file_extension": ".py",
   "mimetype": "text/x-python",
   "name": "python",
   "nbconvert_exporter": "python",
   "pygments_lexer": "ipython3",
   "version": "3.9.13"
  }
 },
 "nbformat": 4,
 "nbformat_minor": 5
}
