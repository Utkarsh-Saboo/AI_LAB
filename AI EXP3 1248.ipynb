{
 "cells": [
  {
   "cell_type": "code",
   "execution_count": 3,
   "id": "54bc6d01",
   "metadata": {},
   "outputs": [
    {
     "name": "stdout",
     "output_type": "stream",
     "text": [
      "\n",
      "CRYPTARITHMETIC PUZZLE SOLVER\n",
      "WORD1 + WORD2 = RESULT\n",
      "Enter WORD1: SEND\n",
      "Enter WORD2: MORE\n",
      "Enter RESULT: MONEY\n",
      "Solutions:\n",
      "9567 + 1085 = 10652\t{'S': 9, 'E': 5, 'N': 6, 'D': 7, 'M': 1, 'O': 0, 'R': 8, 'Y': 2}\n"
     ]
    }
   ],
   "source": [
    "import re\n",
    "solved = False\n",
    "def solve(letters, values, visited, words):\n",
    "    global solved\n",
    "    if len(set) == len(values):\n",
    "        map = {}\n",
    "        for letter, val in zip(letters,values):\n",
    "            map[letter] = val\n",
    "        if map[words[0][0]] == 0 or map[words[1][0]] == 0 or map[words[2][0]] == 0:\n",
    "            return\n",
    "        word1, word2, res = \"\", \"\", \"\"\n",
    "        for c in words[0]:\n",
    "            word1 += str(map[c])\n",
    "        for c in words[1]:\n",
    "            word2 += str(map[c])\n",
    "        for c in words[2]:\n",
    "            res += str(map[c])\n",
    "        if int(word1) + int(word2) == int(res):\n",
    "            print(\"{} + {} = {}\\t{}\".format(word1, word2, res, map))\n",
    "            solved = True\n",
    "            return\n",
    "    for i in range(10):\n",
    "        if not visited[i]:\n",
    "            visited[i] = True\n",
    "            values.append(i)\n",
    "            solve(letters, values, visited, words)\n",
    "            values.pop()\n",
    "            visited[i] = False\n",
    "print(\"\\nCRYPTARITHMETIC PUZZLE SOLVER\")\n",
    "print(\"WORD1 + WORD2 = RESULT\")\n",
    "word1 = input(\"Enter WORD1: \").upper()\n",
    "word2 = input(\"Enter WORD2: \").upper()\n",
    "result = input(\"Enter RESULT: \").upper()\n",
    "if len(result) > (max(len(word1), len(word2)) + 1):\n",
    "    print(\"\\n0 Solutions!\")\n",
    "else:\n",
    "    set = []\n",
    "    for c in word1:\n",
    "        if c not in set:\n",
    "            set.append(c)\n",
    "    for c in word2:\n",
    "        if c not in set:\n",
    "            set.append(c)\n",
    "    for c in result:\n",
    "        if c not in set:\n",
    "            set.append(c)\n",
    "    if len(set) > 10:\n",
    "        print(\"\\nNo solutions!\")\n",
    "        exit()\n",
    "    print(\"Solutions:\")\n",
    "    solve(set, [], [False for _ in range(10)], [word1, word2, result])\n",
    "    if not solved:\n",
    "        print(\"\\n0 solutions!\")"
   ]
  },
  {
   "cell_type": "code",
   "execution_count": null,
   "id": "d6504aa7",
   "metadata": {},
   "outputs": [],
   "source": []
  },
  {
   "cell_type": "code",
   "execution_count": null,
   "id": "ebf19ca0",
   "metadata": {},
   "outputs": [],
   "source": []
  },
  {
   "cell_type": "code",
   "execution_count": null,
   "id": "40fd7f61",
   "metadata": {},
   "outputs": [],
   "source": []
  }
 ],
 "metadata": {
  "kernelspec": {
   "display_name": "Python 3 (ipykernel)",
   "language": "python",
   "name": "python3"
  },
  "language_info": {
   "codemirror_mode": {
    "name": "ipython",
    "version": 3
   },
   "file_extension": ".py",
   "mimetype": "text/x-python",
   "name": "python",
   "nbconvert_exporter": "python",
   "pygments_lexer": "ipython3",
   "version": "3.9.13"
  }
 },
 "nbformat": 4,
 "nbformat_minor": 5
}
